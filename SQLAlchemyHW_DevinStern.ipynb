{
 "cells": [
  {
   "cell_type": "code",
   "execution_count": null,
   "metadata": {},
   "outputs": [],
   "source": [
    "%matplotlib inline\n",
    "from matplotlib import style\n",
    "style.use('fivethirtyeight')\n",
    "import matplotlib.pyplot as plt"
   ]
  },
  {
   "cell_type": "code",
   "execution_count": null,
   "metadata": {},
   "outputs": [],
   "source": [
    "import numpy as np\n",
    "import pandas as pd"
   ]
  },
  {
   "cell_type": "code",
   "execution_count": null,
   "metadata": {},
   "outputs": [],
   "source": [
    "import datetime as dt"
   ]
  },
  {
   "cell_type": "markdown",
   "metadata": {},
   "source": [
    "# Reflect Tables into SQLAlchemy ORM"
   ]
  },
  {
   "cell_type": "code",
   "execution_count": null,
   "metadata": {},
   "outputs": [],
   "source": [
    "# Python SQL toolkit and Object Relational Mapper\n",
    "import sqlalchemy\n",
    "from sqlalchemy.ext.automap import automap_base\n",
    "from sqlalchemy.orm import Session\n",
    "from sqlalchemy import create_engine, func, inspect"
   ]
  },
  {
   "cell_type": "code",
   "execution_count": null,
   "metadata": {},
   "outputs": [],
   "source": [
    "engine = create_engine(\"sqlite:///Resources/hawaii.sqlite\")"
   ]
  },
  {
   "cell_type": "code",
   "execution_count": null,
   "metadata": {},
   "outputs": [],
   "source": [
    "# reflect an existing database into a new model\n",
    "Base = automap_base()\n",
    "# reflect the tables\n",
    "Base.prepare(engine, reflect=True)"
   ]
  },
  {
   "cell_type": "code",
   "execution_count": null,
   "metadata": {},
   "outputs": [],
   "source": [
    "# view all of the classes that automap found\n",
    "Base.classes.keys()"
   ]
  },
  {
   "cell_type": "code",
   "execution_count": null,
   "metadata": {},
   "outputs": [],
   "source": [
    "# Save references to each table\n",
    "Measurement = Base.classes.measurement\n",
    "Station = Base.classes.station"
   ]
  },
  {
   "cell_type": "code",
   "execution_count": null,
   "metadata": {},
   "outputs": [],
   "source": [
    "# Create our session (link) from Python to the DB\n",
    "session = Session(engine)"
   ]
  },
  {
   "cell_type": "markdown",
   "metadata": {},
   "source": [
    "# Exploratory Climate Analysis"
   ]
  },
  {
   "cell_type": "code",
   "execution_count": null,
   "metadata": {},
   "outputs": [],
   "source": [
    "#Calculate the date 1 year ago from the last data point in the database\n",
    "    #Find the last date in the database\n",
    "session.query(Measurement.date).order_by(Measurement.date.desc()).first()\n",
    "    \n",
    "    # Query for the date we'd need to get the last 12 months worth of data\n",
    "query_date = dt.date(2017, 8, 23) - dt.timedelta(days=365)\n",
    "print(\"Query Date: \", query_date)\n",
    "\n",
    "    #2016-08-23 is our starting point"
   ]
  },
  {
   "cell_type": "code",
   "execution_count": null,
   "metadata": {},
   "outputs": [],
   "source": [
    "\n",
    "# Inspect the Measurement Table. Create the inspector and connect it to the engine\n",
    "inspector = inspect(engine)\n",
    "\n",
    "#Look at the column names in the Measurement table\n",
    "columns = inspector.get_columns('Measurement')\n",
    "for column in columns:\n",
    "    print(column[\"name\"], column[\"type\"])"
   ]
  },
  {
   "cell_type": "code",
   "execution_count": null,
   "metadata": {},
   "outputs": [],
   "source": [
    "# Use `engine.execute` to select and display the all rows from the Measurement table\n",
    "# 0=ID 1=Station 2=Date 3=Prcp 4=tobs\n",
    "allrows = engine.execute('SELECT date, prcp FROM Measurement WHERE date > 2016-08-23').fetchall()\n",
    "\n",
    "#Turn the Measurement data into a Dataframe, set index to Date, sort by Date\n",
    "prcp_df = pd.DataFrame(allrows, columns=['Date', 'Precipitation'])\n",
    "prcp_df.set_index('Date', inplace=True, )\n",
    "prcp_df.sort_values('Date')\n",
    "prcp_df.head()\n"
   ]
  },
  {
   "cell_type": "code",
   "execution_count": null,
   "metadata": {},
   "outputs": [],
   "source": [
    "#Plot the precipication data\n",
    "prcp_df.plot()"
   ]
  },
  {
   "cell_type": "code",
   "execution_count": null,
   "metadata": {},
   "outputs": [],
   "source": [
    "# Use Pandas to calcualte the summary statistics for the precipitation data\n",
    "prcp_df.describe()"
   ]
  },
  {
   "cell_type": "code",
   "execution_count": null,
   "metadata": {},
   "outputs": [],
   "source": [
    "#Query to show how many stations are available in this dataset (there are 9)\n",
    "station_count = engine.execute('SELECT COUNT(station) FROM station').fetchall()\n",
    "station_count"
   ]
  },
  {
   "cell_type": "code",
   "execution_count": null,
   "metadata": {},
   "outputs": [],
   "source": [
    "#What are the most active stations? \n",
    "station_activity = engine.execute('SELECT COUNT(station), station FROM Measurement WHERE date > 2016-08-23 GROUP BY station').fetchall()\n",
    "station_activity_df = pd.DataFrame(station_activity, columns=['Observation Count', 'Station'])\n",
    "station_activity_df.set_index('Station', inplace=True, )\n"
   ]
  },
  {
   "cell_type": "code",
   "execution_count": null,
   "metadata": {},
   "outputs": [],
   "source": [
    "#Display station activity in descending order\n",
    "station_activity_df.sort_values('Observation Count', ascending=False)\n",
    "\n",
    "##Station USC00519281 has the highest observation count @2772"
   ]
  },
  {
   "cell_type": "code",
   "execution_count": null,
   "metadata": {},
   "outputs": [],
   "source": [
    "##calculate lowest temp recorded, highest temp recorded, average temp recorded for station USC00519281\n",
    "#Select tobs for station USC00519281 and put them into a dataframe\n",
    "\n",
    "temprows = engine.execute('SELECT tobs, station FROM Measurement WHERE date > 2016-08-23').fetchall()\n",
    "temper_df = pd.DataFrame(temprows, columns=['tobs', 'Station'])\n",
    "temp_df = temper_df.loc[temper_df['Station'] == 'USC00519281']\n",
    "temp_df.head()"
   ]
  },
  {
   "cell_type": "code",
   "execution_count": null,
   "metadata": {},
   "outputs": [],
   "source": [
    "#Retrieve the min, max, and average tobs for this station\n",
    "#min\n",
    "temp_df.min()"
   ]
  },
  {
   "cell_type": "code",
   "execution_count": null,
   "metadata": {},
   "outputs": [],
   "source": [
    "#max\n",
    "temp_df.max()"
   ]
  },
  {
   "cell_type": "code",
   "execution_count": null,
   "metadata": {},
   "outputs": [],
   "source": [
    "#average\n",
    "temp_df.mean()"
   ]
  },
  {
   "cell_type": "code",
   "execution_count": null,
   "metadata": {},
   "outputs": [],
   "source": [
    "# Choose the station with the highest number of temperature observations.\n",
    "# Query the last 12 months of temperature observation data for this station and plot the results as a histogram\n",
    "\n",
    "temprows = engine.execute('SELECT tobs, station FROM Measurement WHERE date > 2016-08-23').fetchall()\n",
    "temp_df_count = pd.DataFrame(temprows, columns=['tobs', 'Station'])\n",
    "temp_df_count.groupby('Station').count()"
   ]
  },
  {
   "cell_type": "code",
   "execution_count": null,
   "metadata": {},
   "outputs": [],
   "source": [
    "#Plot using the station with the highest number of observations (USC00513117)\n",
    "most_temp_df = temper_df.loc[temper_df['Station'] == 'USC00513117']\n",
    "most_temp_df.head()"
   ]
  },
  {
   "cell_type": "code",
   "execution_count": null,
   "metadata": {},
   "outputs": [],
   "source": [
    "#plot using a histogram\n",
    "\n",
    "most_temp_df.hist(bins=12)"
   ]
  },
  {
   "cell_type": "code",
   "execution_count": null,
   "metadata": {},
   "outputs": [],
   "source": [
    "# This function called `calc_temps` will accept start date and end date in the format '%Y-%m-%d' \n",
    "# and return the minimum, average, and maximum temperatures for that range of dates\n",
    "def calc_temps(start_date, end_date):\n",
    "    \"\"\"TMIN, TAVG, and TMAX for a list of dates.\n",
    "    \n",
    "    Args:\n",
    "        start_date (string): A date string in the format %Y-%m-%d\n",
    "        end_date (string): A date string in the format %Y-%m-%d\n",
    "        \n",
    "    Returns:\n",
    "        TMIN, TAVE, and TMAX\n",
    "    \"\"\"\n",
    "    \n",
    "    return session.query(func.min(Measurement.tobs), func.avg(Measurement.tobs), func.max(Measurement.tobs)).\\\n",
    "        filter(Measurement.date >= start_date).filter(Measurement.date <= end_date).all()\n",
    "\n",
    "# function usage example\n",
    "print(calc_temps('2012-02-28', '2012-03-05'))"
   ]
  },
  {
   "cell_type": "code",
   "execution_count": null,
   "metadata": {},
   "outputs": [],
   "source": [
    "# Use your previous function `calc_temps` to calculate the tmin, tavg, and tmax \n",
    "# for your trip using the previous year's data for those same dates.\n",
    "\n",
    "trip_temps = calc_temps('2016-07-05', '2016-07-11')\n",
    "trip_temps"
   ]
  },
  {
   "cell_type": "code",
   "execution_count": null,
   "metadata": {},
   "outputs": [],
   "source": [
    "\n",
    "tempdata = [62.0, 69.57, 74.0]\n",
    "x_axis = np.arange(len(tempdata))\n",
    "tick_locations = [value for value in x_axis]\n",
    "plt.xticks(tick_locations, [\"Min Temp\", \"Avg Temp\", \"Max Temp\"])\n",
    "\n",
    "plt.title(\"Vacation Week Temps (year prior) 7/5/16 - 7/11/16\")\n",
    "plt.ylabel(\"Tobs\")\n",
    "\n",
    "\n",
    "plt.bar(x_axis, tempdata, color='lightgreen', alpha=0.5, align=\"center\")\n"
   ]
  },
  {
   "cell_type": "code",
   "execution_count": null,
   "metadata": {},
   "outputs": [],
   "source": [
    "# Plot the results from your previous query as a bar chart. \n",
    "# Use \"Trip Avg Temp\" as your Title\n",
    "# Use the average temperature for the y value\n",
    "# Use the peak-to-peak (tmax-tmin) value as the y error bar (yerr)\n",
    "\n",
    "tempdata = [69.57]\n",
    "x_axis = np.arange(len(tempdata))\n",
    "tick_locations = [value for value in x_axis]\n",
    "plt.xticks(tick_locations, [\"Avg Temp\"])\n",
    "\n",
    "plt.title('Average Temp')\n",
    "plt.ylabel(\"Tobs\")\n",
    "\n",
    "error = [tempdata]\n",
    "\n",
    "plt.bar(x_axis, tempdata, yerr=error, color='lightgreen', width=15, alpha=0.5, align=\"center\")"
   ]
  },
  {
   "cell_type": "code",
   "execution_count": null,
   "metadata": {},
   "outputs": [],
   "source": [
    "##Setting up flask to create routes\n",
    "\n",
    "from flask import Flask, jsonify\n"
   ]
  },
  {
   "cell_type": "code",
   "execution_count": null,
   "metadata": {},
   "outputs": [],
   "source": [
    "# Flask Setup\n",
    "def create_app():\n",
    "    app = Flask(__name__)\n",
    "\n",
    "    return app"
   ]
  },
  {
   "cell_type": "code",
   "execution_count": null,
   "metadata": {},
   "outputs": [],
   "source": [
    "## Design Flask APIs based on the queries from above\n",
    "##precipitation for 12 months from Measurement table\n",
    "\n",
    "##Query1: finding precipitation for 12 months from the end data point in the data-set\n",
    "@app.route(\"/api/v1.0/precipitation\")\n",
    "def precip_func():\n",
    "    \"\"\"Return a list of precipitation data for dates in data > 8/23/2016\"\"\"\n",
    "    # Query Measurement Table\n",
    "    precip_results = session.query(measurement.precipitation > 2016-8-23).all()\n",
    "    \n",
    "    precip_list = []\n",
    "    \n",
    "    for precipitation, date in results:\n",
    "        prcp_measurement = {}\n",
    "        precipitation_dict[\"prcp\"] = prcp\n",
    "        date_dict[\"date\"] = date\n",
    "        results.append(prcp_measurement)\n",
    "\n",
    "        return jsonify(prcp_measurement)\n",
    "    \n",
    "        if __name__ == '__precipitation__':\n",
    "            app.run(debug=True)       "
   ]
  },
  {
   "cell_type": "code",
   "execution_count": null,
   "metadata": {
    "scrolled": true
   },
   "outputs": [],
   "source": [
    "##Query2: How many unique stations are in the dataset?\n",
    "\n",
    "@app.route(\"/api/v1.0/stations\")\n",
    "\n",
    "def st_count_funct():\n",
    "    \"\"\"Return the number of stations in the data\"\"\"\n",
    "    #Query station table\n",
    "    st_results = session.query(Station.station).all()\n",
    "    \n",
    "    return jsonify(st_results)\n",
    "\n",
    "    if __name__ == '__stations__':\n",
    "        app.run(debug=True)       \n",
    "        "
   ]
  },
  {
   "cell_type": "code",
   "execution_count": null,
   "metadata": {},
   "outputs": [],
   "source": [
    "##Query3: Temperature data for the most recent 12 months in the data set\n",
    "\n",
    "@app.route(\"/api/v1.0/tobs\")\n",
    "\n",
    "def st_count_funct():\n",
    "    \"\"\"Tobs for \"\"\"\n",
    "    #Query station table\n",
    "tobs_results = session.query(measurement.tobs, measurement.date > 2016-8-23).all()\n",
    "    \n",
    "    return jsonify(tob_results)\n",
    "\n",
    "if __name__ == '__main__':\n",
    "    app.run(debug=True)"
   ]
  },
  {
   "cell_type": "code",
   "execution_count": null,
   "metadata": {},
   "outputs": [],
   "source": []
  }
 ],
 "metadata": {
  "kernel_info": {
   "name": "python3"
  },
  "kernelspec": {
   "display_name": "Python 3",
   "language": "python",
   "name": "python3"
  },
  "language_info": {
   "codemirror_mode": {
    "name": "ipython",
    "version": 3
   },
   "file_extension": ".py",
   "mimetype": "text/x-python",
   "name": "python",
   "nbconvert_exporter": "python",
   "pygments_lexer": "ipython3",
   "version": "3.6.7"
  },
  "nteract": {
   "version": "0.12.3"
  },
  "varInspector": {
   "cols": {
    "lenName": 16,
    "lenType": 16,
    "lenVar": 40
   },
   "kernels_config": {
    "python": {
     "delete_cmd_postfix": "",
     "delete_cmd_prefix": "del ",
     "library": "var_list.py",
     "varRefreshCmd": "print(var_dic_list())"
    },
    "r": {
     "delete_cmd_postfix": ") ",
     "delete_cmd_prefix": "rm(",
     "library": "var_list.r",
     "varRefreshCmd": "cat(var_dic_list()) "
    }
   },
   "types_to_exclude": [
    "module",
    "function",
    "builtin_function_or_method",
    "instance",
    "_Feature"
   ],
   "window_display": false
  }
 },
 "nbformat": 4,
 "nbformat_minor": 2
}
